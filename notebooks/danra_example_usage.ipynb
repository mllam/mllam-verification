{
 "cells": [
  {
   "cell_type": "code",
   "execution_count": null,
   "metadata": {},
   "outputs": [],
   "source": [
    "from pathlib import Path\n",
    "import xarray as xr\n",
    "import matplotlib.pyplot as plt\n",
    "import matplotlib.dates as mdates\n",
    "import cartopy.crs as ccrs\n",
    "import numpy as np\n",
    "import dmidc\n",
    "import dmidc.harmonie\n",
    "import dmidc.metobs\n",
    "import dmidc.utils\n",
    "import tempfile\n",
    "from mllam_verification.plot import plot_single_metric_gridded_map\n",
    "from mllam_verification.operations.statistics import rmse\n",
    "from datetime import datetime\n",
    "\n",
    "dmidc.__version__"
   ]
  },
  {
   "cell_type": "code",
   "execution_count": null,
   "metadata": {},
   "outputs": [],
   "source": [
    "ANALYSIS_TIME = datetime(2022, 1, 1)"
   ]
  },
  {
   "cell_type": "code",
   "execution_count": null,
   "metadata": {},
   "outputs": [],
   "source": [
    "version = \"v0.5.0\"\n",
    "# path to copies of processed DANRA datasets on scale.dmi.dk:\n",
    "fp_root = Path(f\"/dmidata/projects/cloudphysics/danra/data/{version}\")\n",
    "\n",
    "ds_danra_sl = xr.open_zarr(fp_root / \"single_levels.zarr\")\n",
    "ds_danra_sl.attrs['suite_name'] = \"danra\""
   ]
  },
  {
   "cell_type": "code",
   "execution_count": null,
   "metadata": {},
   "outputs": [],
   "source": [
    "with tempfile.TemporaryDirectory() as tempdir:\n",
    "    ds = dmidc.harmonie.load(\n",
    "        suite_name=\"DANRA\",\n",
    "        analysis_time=ANALYSIS_TIME.strftime(\"%Y-%m-%d\"),\n",
    "        data_kind=\"FORECAST\",\n",
    "        forecast_duration=\"PT3H\",\n",
    "        short_name=[\"t\"],\n",
    "        level_type=\"heightAboveGround\",\n",
    "        level=2,\n",
    "        temp_filepath=tempdir,\n",
    "    )\n"
   ]
  },
  {
   "cell_type": "code",
   "execution_count": null,
   "metadata": {},
   "outputs": [],
   "source": [
    "ds"
   ]
  },
  {
   "cell_type": "code",
   "execution_count": null,
   "metadata": {},
   "outputs": [],
   "source": []
  },
  {
   "cell_type": "code",
   "execution_count": null,
   "metadata": {},
   "outputs": [],
   "source": [
    "da1_t2m = ds_danra_sl[\"t2m\"].sel(time=slice(\"2022-01-01\", \"2022-01-05\"))\n",
    "da2_t2m = ds_danra_sl[\"t2m\"].sel(time=slice(\"2022-03-01\", \"2022-03-05\"))\n",
    "# shift time of da2_t2m to match that of da1_t2m\n",
    "da2_t2m = da2_t2m.assign_coords(time=da1_t2m.time)\n",
    "# bbox = [7.5, 15.5, 54.5, 58.5]\n",
    "\n",
    "fig, ax = plt.subplots(figsize=(8, 10), subplot_kw={\"projection\": ccrs.AlbersEqualArea(central_longitude=11.0, central_latitude=55.0)})\n",
    "\n",
    "ax = plot_single_metric_gridded_map(da1_t2m, da2_t2m, time_selection=datetime(2022, 1, 1), axes=ax, xarray_plot_kwargs={\"transform\": ccrs.PlateCarree()})\n",
    "ax.coastlines(linewidth=0.5, color=\"black\")\n",
    "ax.gridlines(draw_labels=[\"top\", \"left\"], color=\"gray\", alpha=0.5, linestyle=\"--\")\n",
    "# ax.set_extent(bbox, crs=ccrs.PlateCarree())"
   ]
  },
  {
   "cell_type": "code",
   "execution_count": null,
   "metadata": {},
   "outputs": [],
   "source": [
    "ds_danra_sl[\"t2m\"][\"x\"].values"
   ]
  }
 ],
 "metadata": {
  "kernelspec": {
   "display_name": ".venv",
   "language": "python",
   "name": "python3"
  },
  "language_info": {
   "codemirror_mode": {
    "name": "ipython",
    "version": 3
   },
   "file_extension": ".py",
   "mimetype": "text/x-python",
   "name": "python",
   "nbconvert_exporter": "python",
   "pygments_lexer": "ipython3",
   "version": "3.12.3"
  }
 },
 "nbformat": 4,
 "nbformat_minor": 2
}
