{
 "cells": [
  {
   "cell_type": "code",
   "execution_count": null,
   "metadata": {},
   "outputs": [],
   "source": [
    "from pathlib import Path\n",
    "import xarray as xr\n",
    "import matplotlib.pyplot as plt\n",
    "import cartopy.crs as ccrs\n",
    "import numpy as np\n",
    "import dmidc\n",
    "import dmidc.harmonie\n",
    "from mllam_verification.plot import plot_single_metric_gridded_map, plot_single_metric_timeseries, plot_single_metric_hovmoller\n",
    "from mllam_verification.operations.statistics import rmse\n",
    "from datetime import datetime\n",
    "\n",
    "dmidc.__version__"
   ]
  },
  {
   "cell_type": "code",
   "execution_count": null,
   "metadata": {},
   "outputs": [],
   "source": [
    "FORECAST_DURATION = \"PT18H\"\n",
    "RELOAD_FC = True"
   ]
  },
  {
   "cell_type": "markdown",
   "metadata": {},
   "source": [
    "## Load DANRA forecast data"
   ]
  },
  {
   "cell_type": "code",
   "execution_count": null,
   "metadata": {},
   "outputs": [],
   "source": [
    "# Retrieve DANRA forecast data\n",
    "dir_ = \"/home/maf/mllam/data\"\n",
    "if RELOAD_FC:\n",
    "    ds_t2m_danra_fc = dmidc.harmonie.load(\n",
    "        suite_name=\"DANRA\",\n",
    "        analysis_time=slice(\"2022-01-01\", \"2022-01-07\"),\n",
    "        data_kind=\"FORECAST\",\n",
    "        forecast_duration=FORECAST_DURATION,\n",
    "        short_name=[\"t\"],\n",
    "        level_type=\"heightAboveGround\",\n",
    "        level=2,\n",
    "        temp_filepath=dir_,\n",
    "    )\n",
    "    ds_danra_fc = dmidc.harmonie.load(\n",
    "        suite_name=\"DANRA\",\n",
    "        analysis_time=slice(\"2022-01-01\", \"2022-01-07\"),\n",
    "        data_kind=\"FORECAST\",\n",
    "        forecast_duration=FORECAST_DURATION,\n",
    "        short_name=[\"u\", \"v\"],\n",
    "        level_type=\"isobaricInhPa\",\n",
    "        level=[100, 200, 250, 300, 400, 500, 600, 700, 800, 850, 900, 925, 950, 1000],\n",
    "        temp_filepath=dir_,\n",
    "    )\n",
    "else:\n",
    "    fp_zarr_json = Path(dir_,\"analysis_time_20220101-20220107__suite_name_DANRA__data_kind_FC33hr__short_name_t__level_2__level_type_heightAboveGround__forecast_duration_18:00:00.zarr.json\")\n",
    "    ds_t2m_danra_fc  = xr.open_zarr(f\"reference::{fp_zarr_json}\", consolidated=False)\n",
    "\n",
    "ds_t2m_danra_fc\n"
   ]
  },
  {
   "cell_type": "markdown",
   "metadata": {},
   "source": [
    "## Load DANRA analysis data"
   ]
  },
  {
   "cell_type": "code",
   "execution_count": null,
   "metadata": {},
   "outputs": [],
   "source": [
    "version = \"v0.5.0\"\n",
    "fp_root = Path(f\"/dmidata/projects/cloudphysics/danra/data/{version}\")\n",
    "\n",
    "ds_danra_analysis_sl = xr.open_zarr(fp_root / \"single_levels.zarr\")\n",
    "ds_danra_analysis_sl.attrs['suite_name'] = \"danra\"\n",
    "\n",
    "ds_danra_analysis_pl = xr.open_zarr(fp_root / \"pressure_levels.zarr\")\n",
    "ds_danra_analysis_pl.attrs['suite_name'] = \"danra\""
   ]
  },
  {
   "cell_type": "code",
   "execution_count": null,
   "metadata": {},
   "outputs": [],
   "source": [
    "# Allign coordinates and assign datasource\n",
    "da_t2m_danra_fc = ds_t2m_danra_fc.assign_coords(\n",
    "    datasource=\"DANRA forecast\",\n",
    "    x=ds_danra_analysis_sl.x,\n",
    "    y=ds_danra_analysis_sl.y,\n",
    "    lon=ds_danra_analysis_sl.lon,\n",
    "    lat=ds_danra_analysis_sl.lat,\n",
    ")"
   ]
  },
  {
   "cell_type": "markdown",
   "metadata": {},
   "source": [
    "# 2 meter temperature"
   ]
  },
  {
   "cell_type": "code",
   "execution_count": null,
   "metadata": {},
   "outputs": [],
   "source": [
    "# Select the relevant forecast data and adjust the coordinates\n",
    "parameter = \"t\"\n",
    "da_t2m_danra_fc: xr.DataArray = ds_t2m_danra_fc.isel(analysis_time=slice(4))[parameter]\n",
    "da_t2m_danra_fc\n"
   ]
  },
  {
   "cell_type": "code",
   "execution_count": null,
   "metadata": {},
   "outputs": [],
   "source": [
    "\n",
    "\n",
    "END_TIME = da_t2m_danra_fc[\"time\"].max().values\n",
    "da_t2m_danra_analysis = ds_danra_analysis_sl[\"t2m\"].sel(\n",
    "    time=slice(ds_t2m_danra_fc.analysis_time[0].values + np.timedelta64(3, \"h\"), END_TIME)\n",
    ")"
   ]
  },
  {
   "cell_type": "code",
   "execution_count": null,
   "metadata": {},
   "outputs": [],
   "source": []
  },
  {
   "cell_type": "markdown",
   "metadata": {},
   "source": [
    "### RMSE between DANRA analysis and forecast"
   ]
  },
  {
   "cell_type": "code",
   "execution_count": null,
   "metadata": {},
   "outputs": [],
   "source": [
    "ax = plot_single_metric_timeseries(da_t2m_danra_analysis, da_t2m_danra_fc, time_axis=\"UTC\", stats_operation=rmse, hue=\"analysis_time\")\n",
    "ax.set_title(\"RMSE between DANRA forecast and analysis\")"
   ]
  },
  {
   "cell_type": "markdown",
   "metadata": {},
   "source": [
    "### Gridded map of difference between DANRA analysis and forecast"
   ]
  },
  {
   "cell_type": "code",
   "execution_count": null,
   "metadata": {},
   "outputs": [],
   "source": [
    "fig, ax = plt.subplots(figsize=(8, 10), subplot_kw={\"projection\": ccrs.AlbersEqualArea(central_longitude=11.0, central_latitude=55.0)})\n",
    "\n",
    "# Select specific analysis time to plot\n",
    "da_t2m_danra_fc_specific_anal = da_t2m_danra_fc.isel(analysis_time=0)\n",
    "time_selection = datetime(2022, 1, 1, 18)\n",
    "\n",
    "ax = plot_single_metric_gridded_map(da_t2m_danra_analysis, da_t2m_danra_fc_specific_anal , time_selection=time_selection, axes=ax, xarray_plot_kwargs={\"transform\": ccrs.PlateCarree(), \"cmap\": \"RdBu_r\"})\n",
    "ax.coastlines(linewidth=0.5, color=\"black\")\n",
    "ax.gridlines(draw_labels=[\"bottom\", \"left\"], color=\"gray\", alpha=0.5, linestyle=\"--\")\n",
    "ax.set_title(\"Difference between DANRA forecast and analysis\\n at {}\".format(time_selection))"
   ]
  },
  {
   "cell_type": "code",
   "execution_count": null,
   "metadata": {},
   "outputs": [],
   "source": [
    "da_t2m_danra_fc_no_nans =  da_t2m_danra_fc.isel(analysis_time=0).dropna(dim=\"time\")\n",
    "ax = plot_single_metric_hovmoller(da_t2m_danra_analysis, da_t2m_danra_fc_no_nans , preserve_dim=\"y\", stats_operation=rmse, time_axis=\"UTC\", xarray_plot_kwargs={\"cmap\": \"RdBu_r\"})"
   ]
  }
 ],
 "metadata": {
  "kernelspec": {
   "display_name": ".venv",
   "language": "python",
   "name": "python3"
  },
  "language_info": {
   "codemirror_mode": {
    "name": "ipython",
    "version": 3
   },
   "file_extension": ".py",
   "mimetype": "text/x-python",
   "name": "python",
   "nbconvert_exporter": "python",
   "pygments_lexer": "ipython3",
   "version": "3.12.3"
  }
 },
 "nbformat": 4,
 "nbformat_minor": 2
}
